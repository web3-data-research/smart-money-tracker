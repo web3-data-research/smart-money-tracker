{
 "cells": [
  {
   "cell_type": "markdown",
   "metadata": {},
   "source": [
    "# 打新资金追踪"
   ]
  },
  {
   "cell_type": "markdown",
   "metadata": {},
   "source": [
    "## 1. 跟踪当日上dex的IDO  \n",
    "\n",
    "通过transpose平台\n",
    "```sql\n",
    "select * from ethereum.dex_pools WHERE \n",
    "        created_timestamp > (now() - INTERVAL '1 day')\n",
    "```\n",
    "\n",
    "\n",
    "\n",
    "## 2. 打新账号追踪 \n",
    "\n",
    "\n",
    "追踪每个池子的前5笔买入\n",
    "\n",
    "```sql\n",
    "WITH\n",
    "    ExcludedAddresses AS (\n",
    "        SELECT\n",
    "            UNNEST(\n",
    "                ARRAY[\n",
    "                    '0xC02aaA39b223FE8D0A0e5C4F27eAD9083C756Cc2',\n",
    "                    '0xdAC17F958D2ee523a2206206994597C13D831ec7',\n",
    "                    '0xA0b86991c6218b36c1d19D4a2e9Eb0cE3606eB48'\n",
    "                ]\n",
    "            ) AS address\n",
    "    ),\n",
    "    np AS (\n",
    "        SELECT\n",
    "            *\n",
    "        FROM\n",
    "            ethereum.dex_pools\n",
    "        WHERE\n",
    "            created_timestamp > (NOW() - INTERVAL '1 day')\n",
    "    ),\n",
    "    NumberedTransactions AS (\n",
    "        SELECT\n",
    "            *,\n",
    "            ROW_NUMBER() OVER (\n",
    "                PARTITION BY contract_address\n",
    "                ORDER BY timestamp ASC -- Assumes a timestamp column to order the transactions\n",
    "            ) AS rn\n",
    "        FROM\n",
    "            ethereum.dex_swaps\n",
    "        WHERE\n",
    "            contract_address IN (\n",
    "                SELECT\n",
    "                    contract_address\n",
    "                FROM\n",
    "                    np\n",
    "            )\n",
    "            AND to_token_address NOT IN (SELECT address FROM ExcludedAddresses)\n",
    "    )\n",
    "SELECT\n",
    "    *\n",
    "FROM\n",
    "    NumberedTransactions\n",
    "WHERE\n",
    "    rn BETWEEN 1 AND 10;\n",
    "```"
   ]
  },
  {
   "cell_type": "markdown",
   "metadata": {},
   "source": []
  }
 ],
 "metadata": {
  "language_info": {
   "name": "python"
  },
  "orig_nbformat": 4
 },
 "nbformat": 4,
 "nbformat_minor": 2
}
