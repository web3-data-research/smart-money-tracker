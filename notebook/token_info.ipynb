{
 "cells": [
  {
   "cell_type": "code",
   "execution_count": 2,
   "metadata": {},
   "outputs": [
    {
     "name": "stdout",
     "output_type": "stream",
     "text": [
      "Collecting requests\n",
      "  Using cached requests-2.31.0-py3-none-any.whl (62 kB)\n",
      "Collecting certifi>=2017.4.17\n",
      "  Using cached certifi-2023.7.22-py3-none-any.whl (158 kB)\n",
      "Collecting charset-normalizer<4,>=2\n",
      "  Downloading charset_normalizer-3.3.1-cp310-cp310-macosx_11_0_arm64.whl (118 kB)\n",
      "\u001b[2K     \u001b[90m━━━━━━━━━━━━━━━━━━━━━━━━━━━━━━━━━━━━━\u001b[0m \u001b[32m118.2/118.2 kB\u001b[0m \u001b[31m540.7 kB/s\u001b[0m eta \u001b[36m0:00:00\u001b[0ma \u001b[36m0:00:01\u001b[0m\n",
      "\u001b[?25hCollecting urllib3<3,>=1.21.1\n",
      "  Downloading urllib3-2.0.7-py3-none-any.whl (124 kB)\n",
      "\u001b[2K     \u001b[90m━━━━━━━━━━━━━━━━━━━━━━━━━━━━━━━━━━━━━━━\u001b[0m \u001b[32m124.2/124.2 kB\u001b[0m \u001b[31m1.6 MB/s\u001b[0m eta \u001b[36m0:00:00\u001b[0ma \u001b[36m0:00:01\u001b[0m\n",
      "\u001b[?25hCollecting idna<4,>=2.5\n",
      "  Using cached idna-3.4-py3-none-any.whl (61 kB)\n",
      "Installing collected packages: urllib3, idna, charset-normalizer, certifi, requests\n",
      "Successfully installed certifi-2023.7.22 charset-normalizer-3.3.1 idna-3.4 requests-2.31.0 urllib3-2.0.7\n",
      "\n",
      "\u001b[1m[\u001b[0m\u001b[34;49mnotice\u001b[0m\u001b[1;39;49m]\u001b[0m\u001b[39;49m A new release of pip is available: \u001b[0m\u001b[31;49m23.0.1\u001b[0m\u001b[39;49m -> \u001b[0m\u001b[32;49m23.3.1\u001b[0m\n",
      "\u001b[1m[\u001b[0m\u001b[34;49mnotice\u001b[0m\u001b[1;39;49m]\u001b[0m\u001b[39;49m To update, run: \u001b[0m\u001b[32;49mpip install --upgrade pip\u001b[0m\n",
      "Note: you may need to restart the kernel to use updated packages.\n"
     ]
    }
   ],
   "source": [
    "pip install requests"
   ]
  },
  {
   "cell_type": "code",
   "execution_count": 17,
   "metadata": {},
   "outputs": [],
   "source": [
    "import requests\n",
    "\n",
    "headers = {\n",
    "    'Content-Type': 'application/json',\n",
    "    'X-API-KEY': 'key',\n",
    "}\n",
    "\n",
    "json_data = {\n",
    "    'sql': \" WITH nb AS ( SELECT DISTINCT (origin_address) AS address FROM ethereum.dex_swaps WHERE TIMESTAMP > (NOW() - INTERVAL '15 minutes') AND to_token_address = '{{Token}}' ), nbc AS ( SELECT COUNT(address) AS new_buyer_count FROM nb ), nsc AS ( SELECT COUNT(DISTINCT (origin_address)) AS new_seller_count FROM ethereum.dex_swaps WHERE TIMESTAMP > (NOW() - INTERVAL '15 minutes') AND from_token_address = '{{Token}}' ), ob AS ( SELECT DISTINCT (owner_address) AS address FROM ethereum.historical_token_owners WHERE TIMESTAMP <= (NOW() - INTERVAL '15 minutes') AND contract_address = '{{Token}}' ), newJoinerCount AS ( SELECT COUNT(address) AS new_holder_count FROM nb WHERE address NOT IN ( SELECT address FROM ob ) ) SELECT nbc.*, newJoinerCount.*, nsc.* FROM nbc LEFT JOIN newJoinerCount ON TRUE LEFT JOIN nsc ON TRUE;\",\n",
    "    'parameters': {\n",
    "        'Token': '0xfA3E941D1F6B7b10eD84A0C211bfA8aeE907965e',\n",
    "    },\n",
    "    'options': {},\n",
    "}\n",
    "\n",
    "response = requests.post('https://api.transpose.io/sql', headers=headers, json=json_data)\n",
    "\n",
    "\n",
    "# Note: json_data will not be serialized by requests\n",
    "# exactly as it was in the original request.\n",
    "# data = '{\"sql\":\" WITH nb AS ( SELECT DISTINCT (origin_address) AS address FROM ethereum.dex_swaps WHERE TIMESTAMP > (NOW() - INTERVAL \\'15 minutes\\') AND to_token_address = \\'{{Token}}\\' ), nbc AS ( SELECT COUNT(address) AS new_buyer_count FROM nb ), nsc AS ( SELECT COUNT(DISTINCT (origin_address)) AS new_seller_count FROM ethereum.dex_swaps WHERE TIMESTAMP > (NOW() - INTERVAL \\'15 minutes\\') AND from_token_address = \\'{{Token}}\\' ), ob AS ( SELECT DISTINCT (owner_address) AS address FROM ethereum.historical_token_owners WHERE TIMESTAMP <= (NOW() - INTERVAL \\'15 minutes\\') AND contract_address = \\'{{Token}}\\' ), newJoinerCount AS ( SELECT COUNT(address) AS new_holder_count FROM nb WHERE address NOT IN ( SELECT address FROM ob ) ) SELECT nbc.*, newJoinerCount.*, nsc.* FROM nbc LEFT JOIN newJoinerCount ON TRUE LEFT JOIN nsc ON TRUE;\",\"parameters\":{\"Token\":\"0xfA3E941D1F6B7b10eD84A0C211bfA8aeE907965e\"},\"options\":{}}'\n",
    "# response = requests.post('https://api.transpose.io/sql', headers=headers, data=data)\n",
    "\n",
    "\n",
    "# Note: json_data will not be serialized by requests\n",
    "# exactly as it was in the original request.\n",
    "# data = '{\"sql\":\" WITH nb AS ( SELECT DISTINCT (origin_address) AS address FROM ethereum.dex_swaps WHERE TIMESTAMP > (NOW() - INTERVAL \\'15 minutes\\') AND to_token_address = \\'{{Token}}\\' ), nbc AS ( SELECT COUNT(address) AS new_buyer_count FROM nb ), nsc AS ( SELECT COUNT(DISTINCT (origin_address)) AS new_seller_count FROM ethereum.dex_swaps WHERE TIMESTAMP > (NOW() - INTERVAL \\'15 minutes\\') AND from_token_address = \\'{{Token}}\\' ), ob AS ( SELECT DISTINCT (owner_address) AS address FROM ethereum.historical_token_owners WHERE TIMESTAMP <= (NOW() - INTERVAL \\'15 minutes\\') AND contract_address = \\'{{Token}}\\' ), newJoinerCount AS ( SELECT COUNT(address) AS new_holder_count FROM nb WHERE address NOT IN ( SELECT address FROM ob ) ) SELECT nbc.*, newJoinerCount.*, nsc.* FROM nbc LEFT JOIN newJoinerCount ON TRUE LEFT JOIN nsc ON TRUE;\",\"parameters\":{},\"options\":{}}'\n",
    "# response = requests.post('https://api.transpose.io/sql', headers=headers, data=data)\n",
    "\n"
   ]
  },
  {
   "cell_type": "code",
   "execution_count": 18,
   "metadata": {},
   "outputs": [
    {
     "name": "stdout",
     "output_type": "stream",
     "text": [
      "{'status': 'success', 'stats': {'count': 1, 'size': 73, 'time': 281, 'truncated': False}, 'results': [{'new_buyer_count': 63, 'new_holder_count': 18, 'new_seller_count': 40}]}\n"
     ]
    }
   ],
   "source": [
    "print(response.json())"
   ]
  }
 ],
 "metadata": {
  "kernelspec": {
   "display_name": ".venv",
   "language": "python",
   "name": "python3"
  },
  "language_info": {
   "codemirror_mode": {
    "name": "ipython",
    "version": 3
   },
   "file_extension": ".py",
   "mimetype": "text/x-python",
   "name": "python",
   "nbconvert_exporter": "python",
   "pygments_lexer": "ipython3",
   "version": "3.10.11"
  }
 },
 "nbformat": 4,
 "nbformat_minor": 2
}
